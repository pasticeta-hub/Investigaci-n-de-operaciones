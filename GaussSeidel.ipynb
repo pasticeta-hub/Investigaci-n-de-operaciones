{
  "nbformat": 4,
  "nbformat_minor": 0,
  "metadata": {
    "colab": {
      "provenance": [],
      "authorship_tag": "ABX9TyN4SogpxKRxAPQdGvJfQ/mL",
      "include_colab_link": true
    },
    "kernelspec": {
      "name": "python3",
      "display_name": "Python 3"
    },
    "language_info": {
      "name": "python"
    }
  },
  "cells": [
    {
      "cell_type": "markdown",
      "metadata": {
        "id": "view-in-github",
        "colab_type": "text"
      },
      "source": [
        "<a href=\"https://colab.research.google.com/github/pasticeta-hub/Investigaci-n-de-operaciones/blob/main/GaussSeidel.ipynb\" target=\"_parent\"><img src=\"https://colab.research.google.com/assets/colab-badge.svg\" alt=\"Open In Colab\"/></a>"
      ]
    },
    {
      "cell_type": "markdown",
      "source": [
        "# Gauss–Seidel:\n",
        "**Paso 1: Definicion de los datos del problema**\n",
        "\n",
        "En esta celda definimos la **matriz A** y el **vector b** del sistema lineal `Ax = b`.  \n",
        "Tambien realizamos el reordenamiento de filas y columnas, que es el mismo que usamos en el metodo de Jacobi.  \n",
        "Finalmente, asignamos el **vector inicial x0** y los parametros de tolerancia y maximo numero de iteraciones.\n"
      ],
      "metadata": {
        "id": "f9_juSY43O1T"
      }
    },
    {
      "cell_type": "code",
      "source": [
        "import numpy as np\n",
        "\n",
        "# Matriz A y vector b\n",
        "A = np.array([\n",
        "    [ 4, -1, -1,  0],\n",
        "    [-1,  4,  0, -1],\n",
        "    [-1,  0,  4, -1],\n",
        "    [ 0, -1, -1,  4]\n",
        "])\n",
        "b = np.array([0, 2/3, 8/9, 14/9])\n",
        "\n",
        "# Reordenamiento de filas/columnas\n",
        "perm = [0, 2, 1, 3]\n",
        "A = A[np.ix_(perm, perm)]\n",
        "b = b[perm]\n",
        "\n",
        "# Vector inicial\n",
        "x0 = np.array([7/27, 7/27, 7/27, 7/27])\n",
        "\n",
        "# Parametros\n",
        "tol = 1e-3\n",
        "nmax = 500\n"
      ],
      "metadata": {
        "id": "3HCqkyds23iZ"
      },
      "execution_count": 26,
      "outputs": []
    },
    {
      "cell_type": "markdown",
      "source": [
        "**Paso 2: Definicion de la funcion Gauss–Seidel**\n",
        "\n",
        "Aquí implementamos el **método iterativo de Gauss–Seidel**.  \n",
        "La funcion recibe la matriz `A`, el vector `b`, la aproximacion inicial `x0`, la tolerancia `tol` y el maximo de iteraciones `max_iter`.  \n",
        "\n"
      ],
      "metadata": {
        "id": "NE4PK6Md3hLs"
      }
    },
    {
      "cell_type": "code",
      "source": [
        "def gauss_seidel_manual(A, b, x0, tol=1e-3, max_iter=500, verbose=True):\n",
        "    \"\"\"\n",
        "    Método iterativo de Gauss–Seidel para resolver Ax = b.\n",
        "    \"\"\"\n",
        "    n = A.shape[0]\n",
        "    x = x0.astype(float).copy()\n",
        "\n",
        "    for k in range(1, max_iter+1):\n",
        "        x_prev = x.copy()\n",
        "\n",
        "        for i in range(n):\n",
        "            suma = 0.0\n",
        "            for j in range(n):\n",
        "                if j != i:\n",
        "                    # (esto lo corrrigio gemini x eso esta en ingles JAJSAJJA)  Use updated values for x[j] where j < i and previous values for j >= i\n",
        "                    suma += A[i, j] * (x[j] if j < i else x_prev[j])\n",
        "            x[i] = (b[i] - suma) / A[i, i]\n",
        "\n",
        "        # Error con norma infinito\n",
        "        err = np.max(np.abs(x - x_prev))\n",
        "        if verbose:\n",
        "            print(f\"iteración {k:3d} | x = {x} | error = {err:.4e}\")\n",
        "\n",
        "        if err < tol:\n",
        "            print(\"Convergencia alcanzada en\", k, \"iteraciones\")\n",
        "            break\n",
        "\n",
        "    return x"
      ],
      "metadata": {
        "id": "bn_q5Ucn3gQs"
      },
      "execution_count": 27,
      "outputs": []
    },
    {
      "cell_type": "markdown",
      "source": [
        "**Paso 3: Ejecucion del metodo**\n",
        "\n",
        "En esta celda ejecutamos la funcion `gauss_seidel_manual` con los datos del problema.  \n",
        "Se mostraran las iteraciones paso a paso, junto con el vector `x` aproximado y el error en cada iteracion.\n"
      ],
      "metadata": {
        "id": "1ig_ie7-6CAF"
      }
    },
    {
      "cell_type": "code",
      "source": [
        "x_gs = gauss_seidel_manual(A, b, x0, tol, nmax, verbose=True)"
      ],
      "metadata": {
        "colab": {
          "base_uri": "https://localhost:8080/"
        },
        "id": "HBH-aurP31g0",
        "outputId": "7f3cc954-70b7-46ed-c273-ca0585ee523b"
      },
      "execution_count": 61,
      "outputs": [
        {
          "output_type": "stream",
          "name": "stdout",
          "text": [
            "iteración   1 | x = [0.12962963 0.31944444 0.26388889 0.53472222] | error = 2.7546e-01\n",
            "iteración   2 | x = [0.14583333 0.39236111 0.33680556 0.57118056] | error = 7.2917e-02\n",
            "iteración   3 | x = [0.18229167 0.41059028 0.35503472 0.58029514] | error = 3.6458e-02\n",
            "iteración   4 | x = [0.19140625 0.41514757 0.35959201 0.58257378] | error = 9.1146e-03\n",
            "iteración   5 | x = [0.1936849  0.41628689 0.36073134 0.58314345] | error = 2.2786e-03\n",
            "iteración   6 | x = [0.19425456 0.41657172 0.36101617 0.58328586] | error = 5.6966e-04\n",
            "Convergencia alcanzada en 6 iteraciones\n"
          ]
        }
      ]
    },
    {
      "cell_type": "markdown",
      "source": [
        "**Paso 4: Mostrar la solución final**\n",
        "\n",
        "Finalmente imprimimos la **solucion aproximada del sistema** obtenida con el metodo de Gauss–Seidel.  \n",
        "Si la tolerancia se alcanzo antes de llegar al numero maximo de iteraciones, se mostrara el vector solucion con exito ehhh:D!\n"
      ],
      "metadata": {
        "id": "vBhy8_9P6nZP"
      }
    },
    {
      "cell_type": "code",
      "source": [
        "print(\"Solucion aproximada (Gauss–Seidel):\", x_gs)"
      ],
      "metadata": {
        "colab": {
          "base_uri": "https://localhost:8080/"
        },
        "id": "gAuf1Swk6saB",
        "outputId": "1afb796d-8728-42af-aca0-2acafbc60dfe"
      },
      "execution_count": 62,
      "outputs": [
        {
          "output_type": "stream",
          "name": "stdout",
          "text": [
            "Solucion aproximada (Gauss–Seidel): [0.19425456 0.41657172 0.36101617 0.58328586]\n"
          ]
        }
      ]
    }
  ]
}