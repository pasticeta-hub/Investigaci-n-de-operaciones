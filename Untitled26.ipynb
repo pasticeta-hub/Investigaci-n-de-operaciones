{
  "nbformat": 4,
  "nbformat_minor": 0,
  "metadata": {
    "colab": {
      "provenance": [],
      "authorship_tag": "ABX9TyNKETtsfyuv2loueYD0ySXt",
      "include_colab_link": true
    },
    "kernelspec": {
      "name": "python3",
      "display_name": "Python 3"
    },
    "language_info": {
      "name": "python"
    }
  },
  "cells": [
    {
      "cell_type": "markdown",
      "metadata": {
        "id": "view-in-github",
        "colab_type": "text"
      },
      "source": [
        "<a href=\"https://colab.research.google.com/github/pasticeta-hub/Investigaci-n-de-operaciones/blob/main/Untitled26.ipynb\" target=\"_parent\"><img src=\"https://colab.research.google.com/assets/colab-badge.svg\" alt=\"Open In Colab\"/></a>"
      ]
    },
    {
      "cell_type": "code",
      "execution_count": null,
      "metadata": {
        "colab": {
          "base_uri": "https://localhost:8080/"
        },
        "id": "5bv9BF-9PlMs",
        "outputId": "67a528f9-41e2-4d09-e316-9fd1c5e57a20"
      },
      "outputs": [
        {
          "output_type": "stream",
          "name": "stdout",
          "text": [
            "Iteración 0: x = [0.12962963 0.35185185 0.2962963  0.51851852]\n",
            "Iteración 1: x = [0.16203704 0.38425926 0.3287037  0.55092593]\n",
            "Iteración 2: x = [0.17824074 0.40046296 0.34490741 0.56712963]\n",
            "Iteración 3: x = [0.18634259 0.40856481 0.35300926 0.57523148]\n",
            "Iteración 4: x = [0.19039352 0.41261574 0.35706019 0.57928241]\n",
            "Iteración 5: x = [0.19241898 0.4146412  0.35908565 0.58130787]\n",
            "Iteración 6: x = [0.19343171 0.41565394 0.36009838 0.5823206 ]\n",
            "Iteración 7: x = [0.19393808 0.4161603  0.36060475 0.58282697]\n",
            "Iteración 8: x = [0.19419126 0.41641348 0.36085793 0.58308015]\n",
            "Solución aproximada: [0.19419126 0.41641348 0.36085793 0.58308015]\n"
          ]
        }
      ],
      "source": [
        "import numpy as np\n",
        "\n",
        "def metodo_jacobi(M, v, inicial, tol, max_iter):\n",
        "    \"\"\"Método de Jacobi para resolver sistemas lineales.\n",
        "    M: matriz de coeficientes\n",
        "    v: vector independiente inicial: vector inicial de aproximación\n",
        "    tol: tolerancia de parada\n",
        "    max_iter: número máximo de iteraciones\"\"\"\n",
        "    # Extraemos la diagonal principal\n",
        "    diag = np.diag(M)\n",
        "    D = np.diag(diag)\n",
        "\n",
        "    # Matriz sin la diagonal\n",
        "    R = M - D\n",
        "\n",
        "    # Valor inicial\n",
        "    x = inicial.copy()\n",
        "\n",
        "    for k in range(max_iter):\n",
        "        # Guardamos la iteración anterior para comparar convergencia\n",
        "        anterior = x.copy()\n",
        "\n",
        "        # Fórmula de Jacobi: x^(k+1) = D^(-1)(b - R x^k)\n",
        "        x = np.linalg.inv(D).dot(v - R.dot(anterior))\n",
        "\n",
        "        # Mostramos avance\n",
        "        print(f\"Iteración {k}: x = {x}\")\n",
        "\n",
        "        # Condición de no se quexd\n",
        "        if np.linalg.norm(x - anterior) < tol:\n",
        "            break\n",
        "\n",
        "    return x\n",
        "\n",
        "    # Definimos la matriz y el vector\n",
        "A = np.array([\n",
        "    [4, -1, -1, 0],\n",
        "    [-1, 4, 0, -1],\n",
        "    [-1, 0, 4, -1],\n",
        "    [0, -1, -1, 4]\n",
        "])\n",
        "\n",
        "b = np.array([0, 2/3, 8/9, 14/9])\n",
        "\n",
        "# Reordenamos filas/columnas\n",
        "perm = [0, 2, 1, 3]\n",
        "A = A[np.ix_(perm, perm)]\n",
        "b = b[perm]\n",
        "\n",
        "# Valores iniciales\n",
        "x0 = np.array([7/27, 7/27, 7/27, 7/27])\n",
        "\n",
        "# Parámetros de tolerancia e iteraciones\n",
        "tolerancia = 1e-3\n",
        "iteraciones = 500\n",
        "\n",
        "# Llamamos a la función:D\n",
        "sol = metodo_jacobi(A, b, x0, tolerancia, iteraciones)\n",
        "print(\"Solución aproximada:\", sol)"
      ]
    }
  ]
}